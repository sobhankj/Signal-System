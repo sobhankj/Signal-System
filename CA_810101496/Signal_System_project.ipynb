{
  "nbformat": 4,
  "nbformat_minor": 0,
  "metadata": {
    "colab": {
      "provenance": []
    },
    "kernelspec": {
      "name": "python3",
      "display_name": "Python 3"
    },
    "language_info": {
      "name": "python"
    }
  },
  "cells": [
    {
      "cell_type": "markdown",
      "source": [
        "**Sobhan Kooshki Jahromi**\n",
        "\n",
        "student number : 810101496\n",
        "\n",
        "signal & systems project"
      ],
      "metadata": {
        "id": "kixyMBOgVu8j"
      }
    },
    {
      "cell_type": "code",
      "source": [
        "!pip install pydub"
      ],
      "metadata": {
        "colab": {
          "base_uri": "https://localhost:8080/"
        },
        "id": "_y5JDQ1UVLZk",
        "outputId": "f6d8cc79-0956-4172-9217-49a253c0b003"
      },
      "execution_count": 2,
      "outputs": [
        {
          "output_type": "stream",
          "name": "stdout",
          "text": [
            "Collecting pydub\n",
            "  Downloading pydub-0.25.1-py2.py3-none-any.whl.metadata (1.4 kB)\n",
            "Downloading pydub-0.25.1-py2.py3-none-any.whl (32 kB)\n",
            "Installing collected packages: pydub\n",
            "Successfully installed pydub-0.25.1\n"
          ]
        }
      ]
    },
    {
      "cell_type": "markdown",
      "source": [
        "we use pydub for progrmaing on audio files it help us to do so many application on audio files."
      ],
      "metadata": {
        "id": "WK8v0q6rVtXc"
      }
    },
    {
      "cell_type": "code",
      "source": [
        "import numpy as np\n",
        "import pandas as pd\n",
        "from scipy.io.wavfile import write\n",
        "from scipy.io.wavfile import read\n",
        "from scipy.signal import find_peaks\n",
        "import matplotlib.pyplot as plt"
      ],
      "metadata": {
        "id": "gCC3k6KWYF2R"
      },
      "execution_count": 3,
      "outputs": []
    },
    {
      "cell_type": "markdown",
      "source": [
        "add numpy for our lists and perform numerical calculations (such as FFT, calculating frequencies).\n",
        "\n",
        "add pandas for store data in DataFrame format and export to Excel format.\n",
        "\n",
        "add scipy.io.wavfile for write WAV format audio files.\n",
        "\n",
        "add scipy.io.wavfile for read WAV format audio files for data analysis.\n",
        "\n",
        "add scipy.signal for find peaks in the frequency spectrum.\n",
        "\n",
        "add matplotlib for plot nemodar :)"
      ],
      "metadata": {
        "id": "q8P4uFUq6R3Q"
      }
    },
    {
      "cell_type": "code",
      "source": [
        "# sampling rate\n",
        "fs = 44100\n",
        "TIME_SILENCE = 0.025\n",
        "\n",
        "# Num of harmonics\n",
        "num_harmonics = 6\n",
        "\n",
        "# base note we have to create it for harry potter\n",
        "note_data = [\n",
        "    ('B', 4, 0.3), ('E', 5, 0.6), ('G', 5, 0.2), ('F#', 5, 0.3), ('E', 5, 0.6),\n",
        "    ('B', 5, 0.4), ('A', 5, 0.8), ('F#', 5, 0.8), ('E', 5, 0.6), ('G', 5, 0.2),\n",
        "    ('F#', 5, 0.3), ('D#', 5, 0.7), ('F', 5, 0.4), ('B', 4, 1.6), ('B', 4, 0.3),\n",
        "    ('E', 5, 0.6), ('G', 5, 0.2), ('F#', 5, 0.3), ('E', 5, 0.6), ('B', 5, 0.4),\n",
        "    ('D', 6, 0.6), ('C#', 6, 0.3), ('C', 6, 0.6), ('G#', 5, 0.3), ('C', 5, 0.5),\n",
        "    ('B', 5, 0.2), ('A#', 5, 0.3), ('A#', 4, 0.6), ('G', 5, 0.3), ('E', 5, 1.6),\n",
        "    ('G', 5, 0.3), ('B', 5, 0.6), ('G', 5, 0.3), ('B', 5, 0.6), ('G', 5, 0.3),\n",
        "    ('C', 6, 0.6), ('B', 5, 0.3), ('A#', 5, 0.6), ('F#', 5, 0.3), ('G', 5, 0.5),\n",
        "    ('B', 5, 0.2), ('A#', 5, 0.3), ('A#', 4, 0.6), ('B', 4, 0.4), ('B', 5, 1.6),\n",
        "    ('G', 5, 0.3), ('B', 5, 0.7), ('G', 5, 0.3), ('B', 5, 0.7), ('G', 5, 0.3),\n",
        "    ('D', 6, 0.7), ('C#', 6, 0.3), ('C', 6, 0.8), ('G#', 5, 0.3), ('C', 6, 0.6),\n",
        "    ('B', 5, 0.2), ('A#', 5, 0.3), ('A#', 4, 0.6), ('G', 5, 0.4), ('E', 5, 1),\n",
        "    ('E', 5, 1.6)\n",
        "]\n",
        "\n",
        "# base note with some diffrences for sum 6 sin\n",
        "note_data_similar = [\n",
        "    ('B', 5, 0.3), ('E', 5, 0.6), ('G', 5, 0.2), ('F#', 5, 0.3), ('E', 5, 0.6),\n",
        "    ('B', 5, 0.4), ('A', 5, 0.8), ('F#', 5, 0.8), ('E', 5, 0.6), ('G', 5, 0.2),\n",
        "    ('F#', 5, 0.3), ('D#', 5, 0.7), ('F', 5, 0.4), ('B', 5, 1.6), ('B', 5, 0.3),\n",
        "    ('E', 5, 0.6), ('G', 5, 0.2), ('F#', 5, 0.3), ('E', 5, 0.6), ('B', 5, 0.4),\n",
        "    ('D', 5, 0.6), ('C#', 5, 0.3), ('C', 5, 0.6), ('G#', 5, 0.3), ('C', 5, 0.5),\n",
        "    ('B', 5, 0.2), ('A#', 5, 0.3), ('A#', 5, 0.6), ('G', 5, 0.3), ('E', 5, 1.6),\n",
        "    ('G', 5, 0.3), ('B', 5, 0.6), ('G', 5, 0.3), ('B', 5, 0.6), ('G', 5, 0.3),\n",
        "    ('C', 5, 0.6), ('B', 5, 0.3), ('A#', 5, 0.6), ('F#', 5, 0.3), ('G', 5, 0.5),\n",
        "    ('B', 5, 0.2), ('A#', 5, 0.3), ('A#', 5, 0.6), ('B', 5, 0.4), ('B', 5, 1.6),\n",
        "    ('G', 5, 0.3), ('B', 5, 0.7), ('G', 5, 0.3), ('B', 5, 0.7), ('G', 5, 0.3),\n",
        "    ('D', 5, 0.7), ('C#', 5, 0.3), ('C', 5, 0.8), ('G#', 5, 0.3), ('C', 5, 0.6),\n",
        "    ('B', 5, 0.2), ('A#', 5, 0.3), ('A#', 5, 0.6), ('G', 5, 0.4), ('E', 5, 1),\n",
        "    ('E', 5, 1.6)\n",
        "]\n",
        "\n",
        "base_freq = {\n",
        "        'C': 16.352, 'C#': 17.324, 'D': 18.354, 'D#': 19.445, 'E': 20.601,\n",
        "        'F': 21.827, 'F#': 23.125, 'G': 24.500, 'G#': 25.957, 'A': 27.500,\n",
        "        'A#': 29.135, 'B': 30.868}\n",
        "\n",
        "# Dict of note names and file paths\n",
        "note_files = {\n",
        "    \"C5\": \"c5.wav\",\n",
        "    \"C#5\": \"c51.wav\",\n",
        "    \"D5\": \"d5.wav\",\n",
        "    \"D#5\": \"d51.wav\",\n",
        "    \"E5\": \"e5.wav\",\n",
        "    \"F5\": \"f5.wav\",\n",
        "    \"F#5\": \"f51.wav\",\n",
        "    \"G5\": \"g5.wav\",\n",
        "    \"G#5\": \"g51.wav\",\n",
        "    \"A5\": \"a5.wav\",\n",
        "    \"A#5\": \"a51.wav\",\n",
        "    \"B5\": \"b5.wav\",\n",
        "}\n",
        "\n",
        "# List of notes that we want to plot\n",
        "notes_to_plot = {\n",
        "    \"D5\": \"d5.wav\",\n",
        "    \"F5\": \"f5.wav\",\n",
        "    \"A5\": \"a5.wav\",\n",
        "}"
      ],
      "metadata": {
        "id": "VselM4y6mpCI"
      },
      "execution_count": 4,
      "outputs": []
    },
    {
      "cell_type": "markdown",
      "source": [
        "This is our global variebles"
      ],
      "metadata": {
        "id": "45W-VxvsnggH"
      }
    },
    {
      "cell_type": "markdown",
      "source": [
        "# STEP 1\n",
        "\n",
        "in this section we create harry potter song with dictionary that said to us in question form."
      ],
      "metadata": {
        "id": "c0M4hM8qCprO"
      }
    },
    {
      "cell_type": "code",
      "source": [
        "# create a sine wave for this frequency and duration\n",
        "def create_tone(frequency, duration , Fs):\n",
        "    t = np.arange(0, duration, 1 / Fs)\n",
        "    tone = np.sin(2 * np.pi * frequency * t)\n",
        "    return tone"
      ],
      "metadata": {
        "id": "ohROGOYbYJRh"
      },
      "execution_count": 11,
      "outputs": []
    },
    {
      "cell_type": "markdown",
      "source": [
        "in function we create a list that have as size as fs for example in this case when fs equle to 44100 we create a list which size is 44100 and fill with 0 , 1/44100 , 2/44100 , 3/44100 , ...\n",
        "\n",
        "after that we create tone with sin and formula in qestion and return it."
      ],
      "metadata": {
        "id": "O1rHJe8UZi-Y"
      }
    },
    {
      "cell_type": "code",
      "source": [
        "# add all notes into a single audio song\n",
        "song = np.array([], dtype=np.float32)\n",
        "\n",
        "for note_info in note_data:\n",
        "    note, octave, duration = note_info[0] , note_info[1] , note_info[2]\n",
        "    frequency = base_freq[note] * (2 ** octave)\n",
        "    tone = create_tone(frequency, duration , fs)\n",
        "    song = np.concatenate((song, tone))\n",
        "    tone = np.zeros(int(fs * TIME_SILENCE))\n",
        "    song = np.concatenate((song, tone))"
      ],
      "metadata": {
        "id": "S2csfK1CW0i-"
      },
      "execution_count": 12,
      "outputs": []
    },
    {
      "cell_type": "markdown",
      "source": [
        "**Why we write base_frequencies[note] * (2 ** octave)**\n",
        "\n",
        "Octave in music refers to the distance between two notes, one having twice the frequency of the other.\n",
        "\n",
        "The frequency of the note A4 (A in the fourth octave) is equal to 440Hz\n",
        "\n",
        "The frequency of the note A5 (A in the fifth octave) is equal to 880Hz\n",
        "\n",
        "The frequency of the note A3 (A in third th octave) is equal to 220Hz\n",
        "\n",
        "so for evalute exaclty frequency of one note we use base (0_octave) frequency and multiply with 2 ** octave.\n",
        "\n",
        "---\n",
        "\n",
        "in this for we select cell in numpy array that create its note and added to our song so first we get frequncy from the base note in octave 0 now we have exactly frequence's note.\n",
        "\n",
        "after that we create tone in generate tone with frequence that we find in last function with sin formula.\n",
        "\n",
        "in the next step we can add this tone to our song and bettween the note we add zero witch means silent frequence"
      ],
      "metadata": {
        "id": "8qaFcbzfijKc"
      }
    },
    {
      "cell_type": "code",
      "source": [
        "# Normalize song to wav form\n",
        "song = np.int16(song / np.max(np.abs(song)) * 32767)\n",
        "\n",
        "# Write to wav file\n",
        "write('noteHarryPotter.wav', fs, song)\n",
        "print(\"CREATE -> noteHarryPotter.wav\")"
      ],
      "metadata": {
        "id": "jRj8svKYhNKF",
        "colab": {
          "base_uri": "https://localhost:8080/"
        },
        "outputId": "e4f18b74-0492-48f0-a215-0f106ef3ee52"
      },
      "execution_count": 13,
      "outputs": [
        {
          "output_type": "stream",
          "name": "stdout",
          "text": [
            "CREATE -> noteHarryPotter.wav\n"
          ]
        }
      ]
    },
    {
      "cell_type": "markdown",
      "source": [
        "in this cell we have to normalize the song to can write it in wav file so we have to normalize it with this part of code.\n",
        "\n",
        "for write the wav file we use write function"
      ],
      "metadata": {
        "id": "6gooS78qjalS"
      }
    },
    {
      "cell_type": "markdown",
      "source": [
        "# STEP 2\n",
        "\n",
        "in this part we found harmonics of notes and create smooth note after that we create harry potter song with our smooth notes."
      ],
      "metadata": {
        "id": "d1xHKuhSCN5n"
      }
    },
    {
      "cell_type": "code",
      "source": [
        "def read_note(file_path):\n",
        "    fs, data = read(file_path)\n",
        "    if data.shape[1] == 2: # Assuming stereo if 2 columns\n",
        "        data = data[:, 0]\n",
        "    return fs, data\n",
        "\n",
        "def evalute_FFT(note , fs) :\n",
        "    fft_note = np.fft.fft(note)\n",
        "    magnitude = np.abs(fft_note)\n",
        "    frequencie = np.fft.fftfreq(len(fft_note), d=1/fs)\n",
        "    return frequencie , magnitude\n",
        "\n",
        "def evalute_peak(frequency , magnitude) :\n",
        "    peak_indexes, temp = find_peaks(magnitude, height=1e4)\n",
        "    peak_magnitudes = magnitude[peak_indexes]\n",
        "    peak_frequencies = frequency[peak_indexes]\n",
        "    return peak_frequencies , peak_magnitudes\n",
        "\n",
        "def buildup_hormonics(num_harmonics , fundamental_freq , peak_frequencies , peak_magnitudes) :\n",
        "    result = []\n",
        "    for i in range(1, num_harmonics + 1):\n",
        "        harmonic_freq = fundamental_freq * i\n",
        "        closest_peak_index = min(range(len(peak_frequencies)), key=lambda idx: abs(peak_frequencies[idx] - harmonic_freq))\n",
        "        result.append((peak_frequencies[closest_peak_index], peak_magnitudes[closest_peak_index]))\n",
        "    return result\n",
        "\n",
        "def save_pos(frequency , magnitudes) :\n",
        "    positive_indices = np.where(frequency > 0)\n",
        "    positive_frequencies = frequency[positive_indices]\n",
        "    positive_magnitudes = magnitudes[positive_indices]\n",
        "    return positive_frequencies , positive_magnitudes\n",
        "\n",
        "# Function to analyze a single .wav file and extract harmonics\n",
        "def check_note(file_path):\n",
        "    fs, note = read_note(file_path)\n",
        "\n",
        "    # build FFT\n",
        "    frequencies, magnitudes = evalute_FFT(note, fs)\n",
        "\n",
        "    # Filter pos frequencies\n",
        "    positive_frequencies, positive_magnitudes = save_pos(frequencies, magnitudes)\n",
        "\n",
        "    # Find peaks\n",
        "    peak_frequencies, peak_magnitudes = evalute_peak(positive_frequencies, positive_magnitudes)\n",
        "\n",
        "    # can find fundamental index and freq\n",
        "    fundamental_index = np.argmax(peak_magnitudes)\n",
        "    fundamental_freq = peak_frequencies[fundamental_index]\n",
        "\n",
        "    # return the six harmonics\n",
        "    return buildup_hormonics(num_harmonics, fundamental_freq, peak_frequencies, peak_magnitudes)"
      ],
      "metadata": {
        "id": "U2OrNv8vx_8a"
      },
      "execution_count": 14,
      "outputs": []
    },
    {
      "cell_type": "markdown",
      "source": [
        "**in read_note function we have -->**\n",
        "\n",
        "fs, data = read(file_path): This line uses the read function (likely imported from scipy.io.wavfile) to read the audio data from the file specified by file_path. The readfunction returns two values:\n",
        "\n",
        "fs: The sampling rate of the audio file (how many audio samples are taken per second). This value is assigned to the variable fs.\n",
        "data: The actual audio data, which is typically a NumPy array. This is assigned to the variable data.\n",
        "\n",
        "---\n",
        "\n",
        "**in evalute_FFT function we have -->**\n",
        "\n",
        "fft_data = np.fft.fft(data): This line performs the core of the operation, the FFT itself.\n",
        "np.fft.fft is a function from the NumPy library that computes the FFT.\n",
        "It takes the data and transforms it from the time domain (a sequence of samples over time) to the frequency domain (representing the strength of different frequencies present in the data).\n",
        "The result is stored in the variable fft_data.\n",
        "\n",
        "frequencies = np.fft.fftfreq(len(fft_data), d=1/fs): This line calculates the frequencies corresponding to each element in the fft_data.\n",
        "np.fft.fftfreq is another NumPy function that generates the frequency values.\n",
        "len(fft_data) provides the size of the FFT data.\n",
        "d=1/fs specifies the time step between samples, derived from the sampling rate (fs).\n",
        "The calculated frequencies are stored in the frequencies variable.\n",
        "\n",
        "magnitudes = np.abs(fft_data): This line computes the magnitude (or absolute value) of each frequency component.\n",
        "np.abs calculates the absolute value.\n",
        "The resulting magnitudes represent the strength or amplitude of each frequency in the audio data.\n",
        "These magnitudes are stored in the magnitudes variable.\n",
        "\n",
        "---\n",
        "\n",
        "In signal processing, after performing an FFT, you often get a representation of frequencies that includes both positive and negative values. For many audio applications, the negative frequencies are a mirror image of the positive frequencies and don't provide additional information. Therefore, they are often filtered out.\n",
        "\n",
        "so we save the posetive part of them\n",
        "\n",
        "---\n",
        "**in evalute_peak function we have -->**\n",
        "\n",
        "peak_indices, temp = find_peaks(magnitudes, height=1e5): This line uses the find_peaks function from the scipy.signal module to identify the peaks in the magnitudes array.\n",
        "height=1e5: This argument sets a threshold. Only peaks with a magnitude greater than 1e4 (which is 10,000) will be considered.\n",
        "peak_indices: This variable stores the indices (locations) within the magnitudes array where the peaks were found.\n",
        "temp: This variable captures additional properties of the peaks, which are not used in this function.\n",
        "\n",
        "peak_frequencies = frequency[peak_indices]: This line uses the peak_indices to extract the corresponding frequencies from the frequency array. The result is stored in peak_frequencies.\n",
        "peak_magnitudes = magnitudes[peak_indices]: Similarly, this line extracts the magnitudes of the peaks using the peak_indices and stores them in peak_magnitudes.\n",
        "\n",
        "---\n",
        "\n",
        "**in buildup_hormonics function we have -->**\n",
        "\n",
        "harmonic_freq = i * fundamental_freq: For each harmonic number (i), the theoretical frequency of that harmonic is calculated by multiplying the fundamental_freq (the fundamental frequency of the note) by i.\n",
        "\n",
        "closest_peak_idx = (np.abs(peak_frequencies - harmonic_freq)).argmin(): This line finds the index of the peak frequency in the peak_frequencies array that is closest to the calculated harmonic_freq.\n",
        "np.abs(peak_frequencies - harmonic_freq) calculates the absolute difference between each peak frequency and the calculated harmonic frequency.\n",
        "argmin() finds the index of the minimum value in the resulting array, which represents the closest peak.\n",
        "\n",
        "result.append((peak_frequencies[closest_peak_idx], peak_magnitudes[closest_peak_idx])): The frequency and magnitude of the closest peak (representing the harmonic) are appended to the result list as a tuple."
      ],
      "metadata": {
        "id": "_kkzlcboCJUz"
      }
    },
    {
      "cell_type": "code",
      "source": [
        "# Analyze all notes and store the harmonic data\n",
        "harmonic_notes = []\n",
        "for note, file_path in note_files.items():\n",
        "    harmonics = check_note(file_path)\n",
        "    for i in range(len(harmonics)):\n",
        "        frequencyR = harmonics[i][0]\n",
        "        magnitudeR = harmonics[i][1]\n",
        "        harmonic_notes.append({\"name note\": note,\"number harmon\": i + 1,\n",
        "                               \"frequency\": frequencyR,\"magnitude\": magnitudeR,})"
      ],
      "metadata": {
        "id": "g3x-Xw1UkcgR"
      },
      "execution_count": 15,
      "outputs": []
    },
    {
      "cell_type": "markdown",
      "source": [
        "in this cell we loop in our note files and recive harmonics\n",
        "after that we create a list and added to them for create exel file"
      ],
      "metadata": {
        "id": "sDLwEhg0OPZq"
      }
    },
    {
      "cell_type": "code",
      "source": [
        "# Save harmonic data to an Excel file\n",
        "dataframe = pd.DataFrame(harmonic_notes)\n",
        "dataframe.to_excel(\"harmonics.xlsx\", index=False)\n",
        "print(\"CREATE -> harmonics.xlsx\")"
      ],
      "metadata": {
        "colab": {
          "base_uri": "https://localhost:8080/"
        },
        "id": "FWeTObTD3d3Z",
        "outputId": "d982978d-241d-4013-bcb5-c9d065789197"
      },
      "execution_count": 16,
      "outputs": [
        {
          "output_type": "stream",
          "name": "stdout",
          "text": [
            "CREATE -> harmonics.xlsx\n"
          ]
        }
      ]
    },
    {
      "cell_type": "markdown",
      "source": [
        "this cell can convert this data frame to excel"
      ],
      "metadata": {
        "id": "7FS0wPtbAmDE"
      }
    },
    {
      "cell_type": "code",
      "source": [
        "# compute & plot the Fourier Transform\n",
        "def plot_function(file_path, note_name):\n",
        "    # compute part\n",
        "    fs, data = read_note(file_path)\n",
        "    frequencies, magnitudes = evalute_FFT(data, fs)\n",
        "    positive_frequencies, positive_magnitudes = save_pos(frequencies, magnitudes)\n",
        "\n",
        "    # Plot part\n",
        "    plt.figure(figsize=(10, 6))\n",
        "    plt.plot(positive_frequencies, positive_magnitudes, label=note_name)\n",
        "    plt.title(note_name)\n",
        "    plt.xlabel(\"Frequency\")\n",
        "    plt.ylabel(\"Magnitude\")\n",
        "    plt.xlim(0, 1000)\n",
        "    plt.legend()\n",
        "    plt.show()\n",
        "\n",
        "# Plot the Fourier Transform for each note\n",
        "for plot_note in notes_to_plot.items():\n",
        "    name, file_path = plot_note\n",
        "    plot_function(file_path, name)\n"
      ],
      "metadata": {
        "colab": {
          "base_uri": "https://localhost:8080/",
          "height": 1000
        },
        "id": "2Wzot-gJPoLL",
        "outputId": "d0c1ec17-fe14-489b-e3c3-2995678aec8d"
      },
      "execution_count": 17,
      "outputs": [
        {
          "output_type": "display_data",
          "data": {
            "text/plain": [
              "<Figure size 1000x600 with 1 Axes>"
            ],
            "image/png": "[encoded data removed]"
          },
          "metadata": {}
        },
        {
          "output_type": "display_data",
          "data": {
            "text/plain": [
              "<Figure size 1000x600 with 1 Axes>"
            ],
            "image/png": "[encoded data removed]"
          },
          "metadata": {}
        },
        {
          "output_type": "display_data",
          "data": {
            "text/plain": [
              "<Figure size 1000x600 with 1 Axes>"
            ],
            "image/png": "[encoded data removed]"
          },
          "metadata": {}
        }
      ]
    },
    {
      "cell_type": "markdown",
      "source": [
        " this code snippet reads audio files for specified notes, calculates their frequency content using the Fourier Transform, and then generates plots to visualize the frequencies and their magnitudes. This allows you to see the dominant frequencies that make up each musical note."
      ],
      "metadata": {
        "id": "dBU06CM7TZtK"
      }
    },
    {
      "cell_type": "code",
      "source": [
        "def biuldup_all_harmonics(note_data):\n",
        "    all_harmonics = []\n",
        "    for i in range(1, num_harmonics + 1):\n",
        "        harmonic_data = note_data[note_data[\"number harmon\"] == i]\n",
        "        avg_frequency = harmonic_data[\"frequency\"].mean()\n",
        "        avg_amplitude = harmonic_data[\"magnitude\"].mean()\n",
        "        print('harmonic_data:' , harmonic_data)\n",
        "        all_harmonics.append({\"frequency\": avg_frequency, \"magnitude\": avg_amplitude})\n",
        "    return all_harmonics"
      ],
      "metadata": {
        "id": "9U-TPuIOsJx1"
      },
      "execution_count": 18,
      "outputs": []
    },
    {
      "cell_type": "markdown",
      "source": [
        "this part of code is for read from excel and add information to one dataframe so after we create this dataframe we have one data structure which include all harmonics of one note."
      ],
      "metadata": {
        "id": "4Hx6Lo7UUIOI"
      }
    },
    {
      "cell_type": "code",
      "source": [
        "# Load harmonic data from Excel\n",
        "harmonics_df = pd.read_excel(\"harmonics.xlsx\")\n",
        "\n",
        "# Calculate mean harmonic data for each note\n",
        "note_all_hormonics = {}\n",
        "unique_notes = harmonics_df[\"name note\"].unique()\n",
        "for note in unique_notes:\n",
        "    note_data_ = harmonics_df[harmonics_df[\"name note\"] == note]\n",
        "    print(\"note : \" , note)\n",
        "    print(\"note_data_:\" , note_data_)\n",
        "    note_all_hormonics[note] = biuldup_all_harmonics(note_data_)\n",
        "print('\\nnote_means: -->' , note_all_hormonics)"
      ],
      "metadata": {
        "colab": {
          "base_uri": "https://localhost:8080/"
        },
        "id": "CmjeGE3NWW3T",
        "outputId": "6dde63e1-2b37-4c27-91c4-993fa1154d53"
      },
      "execution_count": 19,
      "outputs": [
        {
          "output_type": "stream",
          "name": "stdout",
          "text": [
            "note :  C5\n",
            "note_data_:   name note  number harmon    frequency     magnitude\n",
            "0        C5              1   523.254232  1.574994e+07\n",
            "1        C5              2  1047.175030  3.270250e+06\n",
            "2        C5              3  1569.429414  3.757723e+05\n",
            "3        C5              4  2092.683646  1.705957e+05\n",
            "4        C5              5  2615.937878  8.335122e+04\n",
            "5        C5              6  3138.858827  1.232231e+04\n",
            "harmonic_data:   name note  number harmon   frequency     magnitude\n",
            "0        C5              1  523.254232  1.574994e+07\n",
            "harmonic_data:   name note  number harmon   frequency     magnitude\n",
            "1        C5              2  1047.17503  3.270250e+06\n",
            "harmonic_data:   name note  number harmon    frequency      magnitude\n",
            "2        C5              3  1569.429414  375772.256565\n",
            "harmonic_data:   name note  number harmon    frequency      magnitude\n",
            "3        C5              4  2092.683646  170595.721979\n",
            "harmonic_data:   name note  number harmon    frequency     magnitude\n",
            "4        C5              5  2615.937878  83351.222386\n",
            "harmonic_data:   name note  number harmon    frequency     magnitude\n",
            "5        C5              6  3138.858827  12322.310971\n",
            "note :  C#5\n",
            "note_data_:    name note  number harmon    frequency     magnitude\n",
            "6        C#5              1   554.249547  1.372838e+07\n",
            "7        C#5              2  1108.832376  3.308600e+06\n",
            "8        C#5              3  1662.748640  2.934472e+05\n",
            "9        C#5              4  2216.998186  1.508156e+05\n",
            "10       C#5              5  2772.247582  6.253774e+04\n",
            "11       C#5              6  3324.164148  2.138132e+04\n",
            "harmonic_data:   name note  number harmon   frequency     magnitude\n",
            "6       C#5              1  554.249547  1.372838e+07\n",
            "harmonic_data:   name note  number harmon    frequency     magnitude\n",
            "7       C#5              2  1108.832376  3.308600e+06\n",
            "harmonic_data:   name note  number harmon   frequency      magnitude\n",
            "8       C#5              3  1662.74864  293447.168776\n",
            "harmonic_data:   name note  number harmon    frequency      magnitude\n",
            "9       C#5              4  2216.998186  150815.617589\n",
            "harmonic_data:    name note  number harmon    frequency     magnitude\n",
            "10       C#5              5  2772.247582  62537.740607\n",
            "harmonic_data:    name note  number harmon    frequency     magnitude\n",
            "11       C#5              6  3324.164148  21381.315851\n",
            "note :  D5\n",
            "note_data_:    name note  number harmon    frequency     magnitude\n",
            "12        D5              1   586.911276  1.535937e+07\n",
            "13        D5              2  1173.155985  1.147962e+06\n",
            "14        D5              3  1760.067261  2.220440e+05\n",
            "15        D5              4  2347.311820  2.006292e+05\n",
            "16        D5              5  2934.556378  1.023357e+05\n",
            "17        D5              6  3521.134371  1.945450e+04\n",
            "harmonic_data:    name note  number harmon   frequency     magnitude\n",
            "12        D5              1  586.911276  1.535937e+07\n",
            "harmonic_data:    name note  number harmon    frequency     magnitude\n",
            "13        D5              2  1173.155985  1.147962e+06\n",
            "harmonic_data:    name note  number harmon    frequency      magnitude\n",
            "14        D5              3  1760.067261  222044.036654\n",
            "harmonic_data:    name note  number harmon   frequency      magnitude\n",
            "15        D5              4  2347.31182  200629.181632\n",
            "harmonic_data:    name note  number harmon    frequency      magnitude\n",
            "16        D5              5  2934.556378  102335.741493\n",
            "harmonic_data:    name note  number harmon    frequency     magnitude\n",
            "17        D5              6  3521.134371  19454.495709\n",
            "note :  D#5\n",
            "note_data_:    name note  number harmon    frequency     magnitude\n",
            "18       D#5              1   622.239268  1.096578e+07\n",
            "19       D#5              2  1245.145103  2.509090e+06\n",
            "20       D#5              3  1866.717805  2.928032e+05\n",
            "21       D#5              4  2488.957074  2.938186e+05\n",
            "22       D#5              5  3111.529625  8.785848e+04\n",
            "23       D#5              6  3733.102328  1.644898e+04\n",
            "harmonic_data:    name note  number harmon   frequency     magnitude\n",
            "18       D#5              1  622.239268  1.096578e+07\n",
            "harmonic_data:    name note  number harmon    frequency     magnitude\n",
            "19       D#5              2  1245.145103  2.509090e+06\n",
            "harmonic_data:    name note  number harmon    frequency      magnitude\n",
            "20       D#5              3  1866.717805  292803.218852\n",
            "harmonic_data:    name note  number harmon    frequency      magnitude\n",
            "21       D#5              4  2488.957074  293818.624792\n",
            "harmonic_data:    name note  number harmon    frequency    magnitude\n",
            "22       D#5              5  3111.529625  87858.47947\n",
            "harmonic_data:    name note  number harmon    frequency     magnitude\n",
            "23       D#5              6  3733.102328  16448.982646\n",
            "note :  E5\n",
            "note_data_:    name note  number harmon    frequency     magnitude\n",
            "24        E5              1   658.900393  1.126138e+07\n",
            "25        E5              2  1317.134220  1.510160e+06\n",
            "26        E5              3  1977.034462  2.489369e+05\n",
            "27        E5              4  2634.935006  3.085718e+05\n",
            "28        E5              5  3294.168682  8.253441e+04\n",
            "29        E5              6  3952.735792  2.046968e+04\n",
            "harmonic_data:    name note  number harmon   frequency     magnitude\n",
            "24        E5              1  658.900393  1.126138e+07\n",
            "harmonic_data:    name note  number harmon   frequency     magnitude\n",
            "25        E5              2  1317.13422  1.510160e+06\n",
            "harmonic_data:    name note  number harmon    frequency      magnitude\n",
            "26        E5              3  1977.034462  248936.909018\n",
            "harmonic_data:    name note  number harmon    frequency      magnitude\n",
            "27        E5              4  2634.935006  308571.750254\n",
            "harmonic_data:    name note  number harmon    frequency     magnitude\n",
            "28        E5              5  3294.168682  82534.410732\n",
            "harmonic_data:    name note  number harmon    frequency     magnitude\n",
            "29        E5              6  3952.735792  20469.680537\n",
            "note :  F5\n",
            "note_data_:    name note  number harmon    frequency     magnitude\n",
            "30        F5              1   698.227781  1.124950e+07\n",
            "31        F5              2  1395.455713  1.041948e+06\n",
            "32        F5              3  2094.683343  2.546019e+05\n",
            "33        F5              4  2791.911276  3.025326e+05\n",
            "34        F5              5  3490.139057  9.687633e+04\n",
            "35        F5              6  4187.033706  2.661456e+04\n",
            "harmonic_data:    name note  number harmon   frequency     magnitude\n",
            "30        F5              1  698.227781  1.124950e+07\n",
            "harmonic_data:    name note  number harmon    frequency     magnitude\n",
            "31        F5              2  1395.455713  1.041948e+06\n",
            "harmonic_data:    name note  number harmon    frequency      magnitude\n",
            "32        F5              3  2094.683343  254601.866704\n",
            "harmonic_data:    name note  number harmon    frequency      magnitude\n",
            "33        F5              4  2791.911276  302532.568657\n",
            "harmonic_data:    name note  number harmon    frequency     magnitude\n",
            "34        F5              5  3490.139057  96876.332489\n",
            "harmonic_data:    name note  number harmon    frequency     magnitude\n",
            "35        F5              6  4187.033706  26614.558746\n",
            "note :  F#5\n",
            "note_data_:    name note  number harmon    frequency     magnitude\n",
            "36       F#5              1   739.554867  1.167808e+07\n",
            "37       F#5              2  1480.442866  1.038423e+06\n",
            "38       F#5              3  2219.331167  2.895836e+04\n",
            "39       F#5              4  2958.552751  2.275894e+04\n",
            "40       F#5              5  3695.774637  1.084993e+04\n",
            "41       F#5              6  4571.975514  1.062070e+04\n",
            "harmonic_data:    name note  number harmon   frequency     magnitude\n",
            "36       F#5              1  739.554867  1.167808e+07\n",
            "harmonic_data:    name note  number harmon    frequency     magnitude\n",
            "37       F#5              2  1480.442866  1.038423e+06\n",
            "harmonic_data:    name note  number harmon    frequency     magnitude\n",
            "38       F#5              3  2219.331167  28958.362275\n",
            "harmonic_data:    name note  number harmon    frequency    magnitude\n",
            "39       F#5              4  2958.552751  22758.94082\n",
            "harmonic_data:    name note  number harmon    frequency     magnitude\n",
            "40       F#5              5  3695.774637  10849.928987\n",
            "harmonic_data:    name note  number harmon    frequency     magnitude\n",
            "41       F#5              6  4571.975514  10620.697441\n",
            "note :  G5\n",
            "note_data_:    name note  number harmon    frequency     magnitude\n",
            "42        G5              1   783.881499  9.605143e+06\n",
            "43        G5              2  1568.429565  1.314384e+06\n",
            "44        G5              3  2351.977781  3.842461e+04\n",
            "45        G5              4  3136.192563  3.595177e+04\n",
            "46        G5              5  3920.074063  2.080789e+04\n",
            "47        G5              6  4875.262999  1.188075e+04\n",
            "harmonic_data:    name note  number harmon   frequency     magnitude\n",
            "42        G5              1  783.881499  9.605143e+06\n",
            "harmonic_data:    name note  number harmon    frequency     magnitude\n",
            "43        G5              2  1568.429565  1.314384e+06\n",
            "harmonic_data:    name note  number harmon    frequency     magnitude\n",
            "44        G5              3  2351.977781  38424.609623\n",
            "harmonic_data:    name note  number harmon    frequency     magnitude\n",
            "45        G5              4  3136.192563  35951.770821\n",
            "harmonic_data:    name note  number harmon    frequency    magnitude\n",
            "46        G5              5  3920.074063  20807.89103\n",
            "harmonic_data:    name note  number harmon    frequency     magnitude\n",
            "47        G5              6  4875.262999  11880.745472\n",
            "note :  G#5\n",
            "note_data_:    name note  number harmon    frequency     magnitude\n",
            "48       G#5              1   830.541112  1.163904e+07\n",
            "49       G#5              2  1662.415357  1.145368e+06\n",
            "50       G#5              3  2491.290054  2.486740e+04\n",
            "51       G#5              4  3322.831016  3.088385e+04\n",
            "52       G#5              5  4153.705411  1.713712e+04\n",
            "53       G#5              6  5165.219166  1.142532e+04\n",
            "harmonic_data:    name note  number harmon   frequency     magnitude\n",
            "48       G#5              1  830.541112  1.163904e+07\n",
            "harmonic_data:    name note  number harmon    frequency     magnitude\n",
            "49       G#5              2  1662.415357  1.145368e+06\n",
            "harmonic_data:    name note  number harmon    frequency     magnitude\n",
            "50       G#5              3  2491.290054  24867.399543\n",
            "harmonic_data:    name note  number harmon    frequency     magnitude\n",
            "51       G#5              4  3322.831016  30883.847528\n",
            "harmonic_data:    name note  number harmon    frequency     magnitude\n",
            "52       G#5              5  4153.705411  17137.121954\n",
            "harmonic_data:    name note  number harmon    frequency     magnitude\n",
            "53       G#5              6  5165.219166  11425.320979\n",
            "note :  A5\n",
            "note_data_:    name note  number harmon    frequency     magnitude\n",
            "54        A5              1   879.866989  8.011564e+06\n",
            "55        A5              2  1757.067715  1.349742e+05\n",
            "56        A5              3  2639.934250  3.680416e+04\n",
            "57        A5              4  3521.134371  3.300331e+04\n",
            "58        A5              5  4399.668229  1.501262e+04\n",
            "59        A5              6  5473.172612  1.034806e+04\n",
            "harmonic_data:    name note  number harmon   frequency     magnitude\n",
            "54        A5              1  879.866989  8.011564e+06\n",
            "harmonic_data:    name note  number harmon    frequency      magnitude\n",
            "55        A5              2  1757.067715  134974.153295\n",
            "harmonic_data:    name note  number harmon   frequency     magnitude\n",
            "56        A5              3  2639.93425  36804.163374\n",
            "harmonic_data:    name note  number harmon    frequency     magnitude\n",
            "57        A5              4  3521.134371  33003.311894\n",
            "harmonic_data:    name note  number harmon    frequency     magnitude\n",
            "58        A5              5  4399.668229  15012.623206\n",
            "harmonic_data:    name note  number harmon    frequency     magnitude\n",
            "59        A5              6  5473.172612  10348.063605\n",
            "note :  A#5\n",
            "note_data_:    name note  number harmon    frequency     magnitude\n",
            "60       A#5              1   932.192412  9.483699e+06\n",
            "61       A#5              2  1865.051391  8.272565e+05\n",
            "62       A#5              3  2797.243803  3.453424e+04\n",
            "63       A#5              4  3728.769649  2.590542e+04\n",
            "64       A#5              5  4661.961911  1.672532e+04\n",
            "65       A#5              6  5799.123337  1.023398e+04\n",
            "harmonic_data:    name note  number harmon   frequency     magnitude\n",
            "60       A#5              1  932.192412  9.483699e+06\n",
            "harmonic_data:    name note  number harmon    frequency     magnitude\n",
            "61       A#5              2  1865.051391  827256.50794\n",
            "harmonic_data:    name note  number harmon    frequency     magnitude\n",
            "62       A#5              3  2797.243803  34534.241184\n",
            "harmonic_data:    name note  number harmon    frequency     magnitude\n",
            "63       A#5              4  3728.769649  25905.423778\n",
            "harmonic_data:    name note  number harmon    frequency     magnitude\n",
            "64       A#5              5  4661.961911  16725.321655\n",
            "harmonic_data:    name note  number harmon    frequency   magnitude\n",
            "65       A#5              6  5799.123337  10233.9755\n",
            "note :  B5\n",
            "note_data_:    name note  number harmon    frequency     magnitude\n",
            "66        B5              1   987.850665  9.469016e+06\n",
            "67        B5              2  1976.701179  9.127632e+05\n",
            "68        B5              3  2963.885278  2.378932e+04\n",
            "69        B5              4  3952.735792  2.810046e+04\n",
            "70        B5              5  4939.253325  1.645208e+04\n",
            "71        B5              6  6144.404474  1.034674e+04\n",
            "harmonic_data:    name note  number harmon   frequency     magnitude\n",
            "66        B5              1  987.850665  9.469016e+06\n",
            "harmonic_data:    name note  number harmon    frequency      magnitude\n",
            "67        B5              2  1976.701179  912763.244881\n",
            "harmonic_data:    name note  number harmon    frequency     magnitude\n",
            "68        B5              3  2963.885278  23789.321568\n",
            "harmonic_data:    name note  number harmon    frequency   magnitude\n",
            "69        B5              4  3952.735792  28100.4577\n",
            "harmonic_data:    name note  number harmon    frequency     magnitude\n",
            "70        B5              5  4939.253325  16452.078193\n",
            "harmonic_data:    name note  number harmon    frequency     magnitude\n",
            "71        B5              6  6144.404474  10346.739594\n",
            "\n",
            "note_means: --> {'C5': [{'frequency': 523.2542321644498, 'magnitude': 15749939.21964709}, {'frequency': 1047.175030229746, 'magnitude': 3270249.834686528}, {'frequency': 1569.429413542926, 'magnitude': 375772.2565649393}, {'frequency': 2092.683645707376, 'magnitude': 170595.7219789218}, {'frequency': 2615.937877871826, 'magnitude': 83351.22238627027}, {'frequency': 3138.858827085852, 'magnitude': 12322.3109706719}], 'C#5': [{'frequency': 554.249546553809, 'magnitude': 13728376.67632783}, {'frequency': 1108.832376058041, 'magnitude': 3308599.964794974}, {'frequency': 1662.748639661427, 'magnitude': 293447.1687761121}, {'frequency': 2216.998186215236, 'magnitude': 150815.6175885906}, {'frequency': 2772.247581620314, 'magnitude': 62537.74060693436}, {'frequency': 3324.164147521161, 'magnitude': 21381.31585056169}], 'D5': [{'frequency': 586.9112756952841, 'magnitude': 15359368.4052283}, {'frequency': 1173.155985489722, 'magnitude': 1147961.963582184}, {'frequency': 1760.067261185006, 'magnitude': 222044.0366537303}, {'frequency': 2347.311819830713, 'magnitude': 200629.1816318332}, {'frequency': 2934.556378476421, 'magnitude': 102335.741493112}, {'frequency': 3521.134371221282, 'magnitude': 19454.49570919383}], 'D#5': [{'frequency': 622.2392684401451, 'magnitude': 10965777.18135649}, {'frequency': 1245.145102781137, 'magnitude': 2509090.08665568}, {'frequency': 1866.717805320435, 'magnitude': 292803.2188515688}, {'frequency': 2488.95707376058, 'magnitude': 293818.6247915913}, {'frequency': 3111.529625151149, 'magnitude': 87858.4794696593}, {'frequency': 3733.102327690447, 'magnitude': 16448.98264637548}], 'E5': [{'frequency': 658.9003929866989, 'magnitude': 11261378.62527032}, {'frequency': 1317.134220072551, 'magnitude': 1510160.3267615}, {'frequency': 1977.03446191052, 'magnitude': 248936.9090175059}, {'frequency': 2634.935006045949, 'magnitude': 308571.7502540465}, {'frequency': 3294.168681983071, 'magnitude': 82534.41073157503}, {'frequency': 3952.735792019347, 'magnitude': 20469.680537183}], 'F5': [{'frequency': 698.2277811366384, 'magnitude': 11249496.68360988}, {'frequency': 1395.455713422007, 'magnitude': 1041948.281286007}, {'frequency': 2094.683343409915, 'magnitude': 254601.8667042489}, {'frequency': 2791.911275695284, 'magnitude': 302532.5686566203}, {'frequency': 3490.139056831923, 'magnitude': 96876.33248887988}, {'frequency': 4187.033706166868, 'magnitude': 26614.55874553623}], 'F#5': [{'frequency': 739.5548669891173, 'magnitude': 11678083.98633177}, {'frequency': 1480.442865779927, 'magnitude': 1038423.269799671}, {'frequency': 2219.331166868198, 'magnitude': 28958.36227458958}, {'frequency': 2958.552750906892, 'magnitude': 22758.94081966301}, {'frequency': 3695.774637243047, 'magnitude': 10849.92898716824}, {'frequency': 4571.975513905683, 'magnitude': 10620.69744136711}], 'G5': [{'frequency': 783.8814993954051, 'magnitude': 9605142.85594061}, {'frequency': 1568.429564691656, 'magnitude': 1314384.149070067}, {'frequency': 2351.977781136638, 'magnitude': 38424.60962274399}, {'frequency': 3136.192563482467, 'magnitude': 35951.77082123083}, {'frequency': 3920.074062877872, 'magnitude': 20807.89102958131}, {'frequency': 4875.26299879081, 'magnitude': 11880.74547160743}], 'G#5': [{'frequency': 830.5411124546554, 'magnitude': 11639039.80329456}, {'frequency': 1662.415356711004, 'magnitude': 1145367.959653147}, {'frequency': 2491.290054413543, 'magnitude': 24867.39954263555}, {'frequency': 3322.831015719468, 'magnitude': 30883.84752751372}, {'frequency': 4153.705411124546, 'magnitude': 17137.12195359077}, {'frequency': 5165.219165659008, 'magnitude': 11425.32097906025}], 'A5': [{'frequency': 879.8669891172914, 'magnitude': 8011563.538259707}, {'frequency': 1757.067714631197, 'magnitude': 134974.1532952121}, {'frequency': 2639.934250302297, 'magnitude': 36804.16337370489}, {'frequency': 3521.134371221282, 'magnitude': 33003.31189434369}, {'frequency': 4399.66822853688, 'magnitude': 15012.62320608698}, {'frequency': 5473.17261185006, 'magnitude': 10348.06360463157}], 'A#5': [{'frequency': 932.1924123337363, 'magnitude': 9483699.487033075}, {'frequency': 1865.051390568319, 'magnitude': 827256.5079400585}, {'frequency': 2797.243802902055, 'magnitude': 34534.24118414633}, {'frequency': 3728.769649334945, 'magnitude': 25905.42377751936}, {'frequency': 4661.961910519952, 'magnitude': 16725.32165485727}, {'frequency': 5799.123337363966, 'magnitude': 10233.97550047142}], 'B5': [{'frequency': 987.8506650544135, 'magnitude': 9469016.340860378}, {'frequency': 1976.701178960097, 'magnitude': 912763.2448812056}, {'frequency': 2963.885278113664, 'magnitude': 23789.32156765226}, {'frequency': 3952.735792019347, 'magnitude': 28100.4576995882}, {'frequency': 4939.253325272068, 'magnitude': 16452.07819296896}, {'frequency': 6144.404474002418, 'magnitude': 10346.73959434972}]}\n"
          ]
        }
      ]
    },
    {
      "cell_type": "code",
      "source": [
        "# Function to create signal which added 6 sin\n",
        "def create_real_note(note, duration):\n",
        "    t = np.arange(0, duration, 1/fs)\n",
        "    signal = np.zeros(t.shape, dtype=t.dtype)\n",
        "    for harmonic in note_all_hormonics[note]:\n",
        "        signal = signal + (harmonic[\"magnitude\"]) * np.sin(2 * np.pi * harmonic[\"frequency\"] * t)\n",
        "\n",
        "    # this part we add damping signal\n",
        "    damping_factor = 0.15\n",
        "    damp_signal = np.exp(-t / damping_factor)\n",
        "    return signal * damp_signal"
      ],
      "metadata": {
        "id": "ysRwDXwOdYXn"
      },
      "execution_count": 20,
      "outputs": []
    },
    {
      "cell_type": "markdown",
      "source": [
        "t = np.arange(0, duration, 1/fs):\n",
        "\n",
        "This line creates a time array t using np.arange.\n",
        "It represents the time points for the audio signal, starting from 0 to duration with a step of 1/fs (which is the sampling interval). fs is the sampling rate.\n",
        "Think of it as creating a sequence of points in time that the audio will exist at.\n",
        "\n",
        "---\n",
        "\n",
        "signal = signal + (harmonic[\"magnitude\"]) * np.sin(2 * np.pi * harmonic[\"frequency\"] * t):\n",
        "\n",
        "Inside the loop, this line adds a sine wave to the signal for each harmonic.\n",
        "harmonic[\"magnitude\"] and harmonic[\"frequency\"] are the magnitude and frequency of the current harmonic, respectively.\n",
        "The sine wave formula is used to generate the harmonic: np.sin(2 * np.pi * harmonic[\"frequency\"] * t).\n",
        "By adding multiple sine waves (harmonics) together, the function builds up the complex sound of the musical note.\n",
        "\n",
        "---\n",
        "\n",
        "tau = 0.15 # Adjust damping factor if needed:\n",
        "\n",
        "tau controls the decay rate of the damping effect.\n",
        "\n",
        "envelope = np.exp(-t / tau):\n",
        "\n",
        "This line creates a damping envelope using an exponential decay function."
      ],
      "metadata": {
        "id": "VKXT1ofKVm6b"
      }
    },
    {
      "cell_type": "code",
      "source": [
        "# create the full song\n",
        "song_test = np.array([], dtype=np.float32)\n",
        "for note_info in note_data_similar:\n",
        "    note, octave, duration = note_info[0] , note_info[1] , note_info[2]\n",
        "    note_name = note + str(octave)\n",
        "    note_signal = create_real_note(note_name, duration)\n",
        "    song_test = np.concatenate((song_test, note_signal))\n",
        "    tone = np.zeros(int(fs * TIME_SILENCE))\n",
        "    song_test = np.concatenate((song_test, tone))"
      ],
      "metadata": {
        "id": "subtiYFSn0EP"
      },
      "execution_count": 21,
      "outputs": []
    },
    {
      "cell_type": "markdown",
      "source": [
        "in this cell we at first we create numpy array for our song_test after that we read from note_data_similar (it is global var) after that we create note name that pass to generate_note function.\n",
        "\n",
        "it returens one damping note so we add to our song , bettween two damping note we add silent note."
      ],
      "metadata": {
        "id": "4dbUCyHdXMeX"
      }
    },
    {
      "cell_type": "code",
      "source": [
        "# Normalize the final waveform\n",
        "song_test = np.int16(song_test / np.max(np.abs(song_test)) * 32767)\n",
        "\n",
        "# Save the song to wav file\n",
        "write(\"optimized_note.wav\", fs, song_test)\n",
        "print(\"CREATE -> optimized_note.wav\")"
      ],
      "metadata": {
        "colab": {
          "base_uri": "https://localhost:8080/"
        },
        "id": "xRKXqppydb4g",
        "outputId": "e94d5fef-3442-4806-902d-c0bd24d829d0"
      },
      "execution_count": 22,
      "outputs": [
        {
          "output_type": "stream",
          "name": "stdout",
          "text": [
            "CREATE -> optimized_note.wav\n"
          ]
        }
      ]
    },
    {
      "cell_type": "markdown",
      "source": [
        "in this cell we have to normalize the song to can write it in wav file so we have to normalize it with this part of code.\n",
        "\n",
        "for write the wav file we use write function"
      ],
      "metadata": {
        "id": "k1WR-dq-rO5X"
      }
    },
    {
      "cell_type": "code",
      "source": [
        "from google.colab import files\n",
        "f = files.upload()\n",
        "import subprocess\n",
        "file0 = list(f.keys())[0]\n",
        "_ = subprocess.run([\"pip\", \"install\", \"nbconvert\"])\n",
        "_ = subprocess.run([\"jupyter\", \"nbconvert\", file0, \"--to\", \"html\"])\n",
        "files.download(file0[:-5]+\"html\")"
      ],
      "metadata": {
        "colab": {
          "base_uri": "https://localhost:8080/",
          "height": 232
        },
        "id": "zDTSiKODznAk",
        "outputId": "5251f96c-523d-4914-8674-16c0e82b988e"
      },
      "execution_count": 23,
      "outputs": [
        {
          "output_type": "display_data",
          "data": {
            "text/plain": [
              "<IPython.core.display.HTML object>"
            ],
            "text/html": [
              "\n",
              "     <input type=\"file\" id=\"files-948aed93-a096-4112-92d1-2b05bde66605\" name=\"files[]\" multiple disabled\n",
              "        style=\"border:none\" />\n",
              "     <output id=\"result-948aed93-a096-4112-92d1-2b05bde66605\">\n",
              "      Upload widget is only available when the cell has been executed in the\n",
              "      current browser session. Please rerun this cell to enable.\n",
              "      </output>\n",
              "      <script>// Copyright 2017 Google LLC\n",
              "//\n",
              "// Licensed under the Apache License, Version 2.0 (the \"License\");\n",
              "// you may not use this file except in compliance with the License.\n",
              "// You may obtain a copy of the License at\n",
              "//\n",
              "//      http://www.apache.org/licenses/LICENSE-2.0\n",
              "//\n",
              "// Unless required by applicable law or agreed to in writing, software\n",
              "// distributed under the License is distributed on an \"AS IS\" BASIS,\n",
              "// WITHOUT WARRANTIES OR CONDITIONS OF ANY KIND, either express or implied.\n",
              "// See the License for the specific language governing permissions and\n",
              "// limitations under the License.\n",
              "\n",
              "/**\n",
              " * @fileoverview Helpers for google.colab Python module.\n",
              " */\n",
              "(function(scope) {\n",
              "function span(text, styleAttributes = {}) {\n",
              "  const element = document.createElement('span');\n",
              "  element.textContent = text;\n",
              "  for (const key of Object.keys(styleAttributes)) {\n",
              "    element.style[key] = styleAttributes[key];\n",
              "  }\n",
              "  return element;\n",
              "}\n",
              "\n",
              "// Max number of bytes which will be uploaded at a time.\n",
              "const MAX_PAYLOAD_SIZE = 100 * 1024;\n",
              "\n",
              "function _uploadFiles(inputId, outputId) {\n",
              "  const steps = uploadFilesStep(inputId, outputId);\n",
              "  const outputElement = document.getElementById(outputId);\n",
              "  // Cache steps on the outputElement to make it available for the next call\n",
              "  // to uploadFilesContinue from Python.\n",
              "  outputElement.steps = steps;\n",
              "\n",
              "  return _uploadFilesContinue(outputId);\n",
              "}\n",
              "\n",
              "// This is roughly an async generator (not supported in the browser yet),\n",
              "// where there are multiple asynchronous steps and the Python side is going\n",
              "// to poll for completion of each step.\n",
              "// This uses a Promise to block the python side on completion of each step,\n",
              "// then passes the result of the previous step as the input to the next step.\n",
              "function _uploadFilesContinue(outputId) {\n",
              "  const outputElement = document.getElementById(outputId);\n",
              "  const steps = outputElement.steps;\n",
              "\n",
              "  const next = steps.next(outputElement.lastPromiseValue);\n",
              "  return Promise.resolve(next.value.promise).then((value) => {\n",
              "    // Cache the last promise value to make it available to the next\n",
              "    // step of the generator.\n",
              "    outputElement.lastPromiseValue = value;\n",
              "    return next.value.response;\n",
              "  });\n",
              "}\n",
              "\n",
              "/**\n",
              " * Generator function which is called between each async step of the upload\n",
              " * process.\n",
              " * @param {string} inputId Element ID of the input file picker element.\n",
              " * @param {string} outputId Element ID of the output display.\n",
              " * @return {!Iterable<!Object>} Iterable of next steps.\n",
              " */\n",
              "function* uploadFilesStep(inputId, outputId) {\n",
              "  const inputElement = document.getElementById(inputId);\n",
              "  inputElement.disabled = false;\n",
              "\n",
              "  const outputElement = document.getElementById(outputId);\n",
              "  outputElement.innerHTML = '';\n",
              "\n",
              "  const pickedPromise = new Promise((resolve) => {\n",
              "    inputElement.addEventListener('change', (e) => {\n",
              "      resolve(e.target.files);\n",
              "    });\n",
              "  });\n",
              "\n",
              "  const cancel = document.createElement('button');\n",
              "  inputElement.parentElement.appendChild(cancel);\n",
              "  cancel.textContent = 'Cancel upload';\n",
              "  const cancelPromise = new Promise((resolve) => {\n",
              "    cancel.onclick = () => {\n",
              "      resolve(null);\n",
              "    };\n",
              "  });\n",
              "\n",
              "  // Wait for the user to pick the files.\n",
              "  const files = yield {\n",
              "    promise: Promise.race([pickedPromise, cancelPromise]),\n",
              "    response: {\n",
              "      action: 'starting',\n",
              "    }\n",
              "  };\n",
              "\n",
              "  cancel.remove();\n",
              "\n",
              "  // Disable the input element since further picks are not allowed.\n",
              "  inputElement.disabled = true;\n",
              "\n",
              "  if (!files) {\n",
              "    return {\n",
              "      response: {\n",
              "        action: 'complete',\n",
              "      }\n",
              "    };\n",
              "  }\n",
              "\n",
              "  for (const file of files) {\n",
              "    const li = document.createElement('li');\n",
              "    li.append(span(file.name, {fontWeight: 'bold'}));\n",
              "    li.append(span(\n",
              "        `(${file.type || 'n/a'}) - ${file.size} bytes, ` +\n",
              "        `last modified: ${\n",
              "            file.lastModifiedDate ? file.lastModifiedDate.toLocaleDateString() :\n",
              "                                    'n/a'} - `));\n",
              "    const percent = span('0% done');\n",
              "    li.appendChild(percent);\n",
              "\n",
              "    outputElement.appendChild(li);\n",
              "\n",
              "    const fileDataPromise = new Promise((resolve) => {\n",
              "      const reader = new FileReader();\n",
              "      reader.onload = (e) => {\n",
              "        resolve(e.target.result);\n",
              "      };\n",
              "      reader.readAsArrayBuffer(file);\n",
              "    });\n",
              "    // Wait for the data to be ready.\n",
              "    let fileData = yield {\n",
              "      promise: fileDataPromise,\n",
              "      response: {\n",
              "        action: 'continue',\n",
              "      }\n",
              "    };\n",
              "\n",
              "    // Use a chunked sending to avoid message size limits. See b/62115660.\n",
              "    let position = 0;\n",
              "    do {\n",
              "      const length = Math.min(fileData.byteLength - position, MAX_PAYLOAD_SIZE);\n",
              "      const chunk = new Uint8Array(fileData, position, length);\n",
              "      position += length;\n",
              "\n",
              "      const base64 = btoa(String.fromCharCode.apply(null, chunk));\n",
              "      yield {\n",
              "        response: {\n",
              "          action: 'append',\n",
              "          file: file.name,\n",
              "          data: base64,\n",
              "        },\n",
              "      };\n",
              "\n",
              "      let percentDone = fileData.byteLength === 0 ?\n",
              "          100 :\n",
              "          Math.round((position / fileData.byteLength) * 100);\n",
              "      percent.textContent = `${percentDone}% done`;\n",
              "\n",
              "    } while (position < fileData.byteLength);\n",
              "  }\n",
              "\n",
              "  // All done.\n",
              "  yield {\n",
              "    response: {\n",
              "      action: 'complete',\n",
              "    }\n",
              "  };\n",
              "}\n",
              "\n",
              "scope.google = scope.google || {};\n",
              "scope.google.colab = scope.google.colab || {};\n",
              "scope.google.colab._files = {\n",
              "  _uploadFiles,\n",
              "  _uploadFilesContinue,\n",
              "};\n",
              "})(self);\n",
              "</script> "
            ]
          },
          "metadata": {}
        },
        {
          "output_type": "error",
          "ename": "IndexError",
          "evalue": "list index out of range",
          "traceback": [
            "\u001b[0;31m---------------------------------------------------------------------------\u001b[0m",
            "\u001b[0;31mIndexError\u001b[0m                                Traceback (most recent call last)",
            "\u001b[0;32m<ipython-input-23-5cfec81c3b86>\u001b[0m in \u001b[0;36m<cell line: 0>\u001b[0;34m()\u001b[0m\n\u001b[1;32m      2\u001b[0m \u001b[0mf\u001b[0m \u001b[0;34m=\u001b[0m \u001b[0mfiles\u001b[0m\u001b[0;34m.\u001b[0m\u001b[0mupload\u001b[0m\u001b[0;34m(\u001b[0m\u001b[0;34m)\u001b[0m\u001b[0;34m\u001b[0m\u001b[0;34m\u001b[0m\u001b[0m\n\u001b[1;32m      3\u001b[0m \u001b[0;32mimport\u001b[0m \u001b[0msubprocess\u001b[0m\u001b[0;34m\u001b[0m\u001b[0;34m\u001b[0m\u001b[0m\n\u001b[0;32m----> 4\u001b[0;31m \u001b[0mfile0\u001b[0m \u001b[0;34m=\u001b[0m \u001b[0mlist\u001b[0m\u001b[0;34m(\u001b[0m\u001b[0mf\u001b[0m\u001b[0;34m.\u001b[0m\u001b[0mkeys\u001b[0m\u001b[0;34m(\u001b[0m\u001b[0;34m)\u001b[0m\u001b[0;34m)\u001b[0m\u001b[0;34m[\u001b[0m\u001b[0;36m0\u001b[0m\u001b[0;34m]\u001b[0m\u001b[0;34m\u001b[0m\u001b[0;34m\u001b[0m\u001b[0m\n\u001b[0m\u001b[1;32m      5\u001b[0m \u001b[0m_\u001b[0m \u001b[0;34m=\u001b[0m \u001b[0msubprocess\u001b[0m\u001b[0;34m.\u001b[0m\u001b[0mrun\u001b[0m\u001b[0;34m(\u001b[0m\u001b[0;34m[\u001b[0m\u001b[0;34m\"pip\"\u001b[0m\u001b[0;34m,\u001b[0m \u001b[0;34m\"install\"\u001b[0m\u001b[0;34m,\u001b[0m \u001b[0;34m\"nbconvert\"\u001b[0m\u001b[0;34m]\u001b[0m\u001b[0;34m)\u001b[0m\u001b[0;34m\u001b[0m\u001b[0;34m\u001b[0m\u001b[0m\n\u001b[1;32m      6\u001b[0m \u001b[0m_\u001b[0m \u001b[0;34m=\u001b[0m \u001b[0msubprocess\u001b[0m\u001b[0;34m.\u001b[0m\u001b[0mrun\u001b[0m\u001b[0;34m(\u001b[0m\u001b[0;34m[\u001b[0m\u001b[0;34m\"jupyter\"\u001b[0m\u001b[0;34m,\u001b[0m \u001b[0;34m\"nbconvert\"\u001b[0m\u001b[0;34m,\u001b[0m \u001b[0mfile0\u001b[0m\u001b[0;34m,\u001b[0m \u001b[0;34m\"--to\"\u001b[0m\u001b[0;34m,\u001b[0m \u001b[0;34m\"html\"\u001b[0m\u001b[0;34m]\u001b[0m\u001b[0;34m)\u001b[0m\u001b[0;34m\u001b[0m\u001b[0;34m\u001b[0m\u001b[0m\n",
            "\u001b[0;31mIndexError\u001b[0m: list index out of range"
          ]
        }
      ]
    }
  ]
}